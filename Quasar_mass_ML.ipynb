{
 "cells": [
  {
   "cell_type": "markdown",
   "metadata": {
    "id": "fPLYSNC-e997"
   },
   "source": [
    "# Configure"
   ]
  },
  {
   "cell_type": "code",
   "execution_count": 1,
   "metadata": {
    "colab": {
     "base_uri": "https://localhost:8080/"
    },
    "id": "FjrDhVbrm-kE",
    "outputId": "8a225204-a3d8-456f-8f55-2718c901c1f3"
   },
   "outputs": [],
   "source": [
    "\"\"\" Use the following commented out code if on colab:\n",
    "from google.colab import drive\n",
    "drive.mount('/content/drive')\n",
    "import sys\n",
    "sys.path.append('/content/drive/My Drive/Colab Notebooks')\n",
    "\"\"\"\n",
    "\n",
    "import os\n",
    "\n",
    "import numpy as np\n",
    "import pandas as pd\n",
    "from sklearn.metrics import mean_squared_error, r2_score\n",
    "import tensorflow as tf\n",
    "from tensorflow import keras\n",
    "from time import perf_counter\n",
    "\n",
    "from get_Chen_data import get_Chen_data, load_a\n",
    "from quasar_analysis import model_mean_predict_bins\n",
    "\n",
    "BEST_MODEL_FILENAME_INTERMEDIATE = os.path.join(\n",
    "    'models', 'Best_models', 'Best_ANN_intermediate_stage.h5')\n",
    "CHECKPOINT_FILENAME_INTERMEDIATE = os.path.join(\n",
    "    'models', 'Checkpoints', 'Checkpoint_intermediate_stage.h5')\n",
    "BEST_MODEL_FILENAME_FINAL = os.path.join('models', 'Best_models',\n",
    "                                         'Best_ANN_final_stage.h5')\n",
    "CHECKPOINT_FILENAME_FINAL = os.path.join(\n",
    "    'models', 'Checkpoints', 'Checkpoint_final_stage.h5')"
   ]
  },
  {
   "cell_type": "code",
   "execution_count": 2,
   "metadata": {
    "id": "tAjQi5S0cywA"
   },
   "outputs": [
    {
     "name": "stdout",
     "output_type": "stream",
     "text": [
      "Loading quasars and spectra\n",
      "Forming X and y for train, val, test\n",
      "Completed.\n"
     ]
    }
   ],
   "source": [
    "(quasars, spectra,\n",
    "    X_train, X_val, X_test, y_train, y_val, y_test) = get_Chen_data()\n",
    "spec_length = X_test.shape[1]"
   ]
  },
  {
   "cell_type": "markdown",
   "metadata": {
    "id": "UvUVNhI6fDwr"
   },
   "source": [
    "# Create ML model"
   ]
  },
  {
   "cell_type": "code",
   "execution_count": 3,
   "metadata": {
    "id": "MjKN0GcvDuG9"
   },
   "outputs": [],
   "source": [
    "model = keras.models.Sequential([\n",
    "    keras.layers.Conv1D(32, kernel_size=100, strides=60,\n",
    "                        activation=\"relu\", input_shape=(spec_length, 1,)),\n",
    "    keras.layers.Conv1D(64, kernel_size=25, activation=\"relu\"),\n",
    "    keras.layers.BatchNormalization(),\n",
    "    keras.layers.Conv1D(128, kernel_size=25, strides=5,\n",
    "                            activation=\"relu\"),\n",
    "    keras.layers.LSTM(128, return_sequences=True),\n",
    "    keras.layers.LSTM(128),\n",
    "    keras.layers.Dense(128),\n",
    "    keras.layers.Dense(1)   \n",
    "])"
   ]
  },
  {
   "cell_type": "code",
   "execution_count": null,
   "metadata": {
    "colab": {
     "base_uri": "https://localhost:8080/"
    },
    "id": "DKrGVf0oFAOv",
    "outputId": "d2d259b8-4e9a-4cee-f079-72573852c623"
   },
   "outputs": [
    {
     "name": "stdout",
     "output_type": "stream",
     "text": [
      "Train on 29040 samples, validate on 8262 samples\n",
      "Epoch 1/20\n",
      "29040/29040 [==============================] - 43s 1ms/sample - loss: 0.4000 - val_loss: 0.1946\n",
      "Epoch 2/20\n",
      "29040/29040 [==============================] - 43s 1ms/sample - loss: 0.1101 - val_loss: 0.1095\n",
      "Epoch 3/20\n",
      "17120/29040 [================>.............] - ETA: 17s - loss: 0.0959"
     ]
    }
   ],
   "source": [
    "keras.backend.clear_session()\n",
    "np.random.seed(42)\n",
    "tf.random.set_seed(42)\n",
    "\n",
    "checkpoint_cb = (keras.callbacks.\n",
    "                 ModelCheckpoint(CHECKPOINT_FILENAME_INTERMEDIATE,\n",
    "                                                save_best_only=True))\n",
    "optimizer = keras.optimizers.Nadam(lr=1e-3)  \n",
    "model.compile(loss=\"mse\", optimizer=optimizer)\n",
    "history = model.fit(np.expand_dims(X_train.to_numpy(), -1),\n",
    "                    y_train.to_numpy(),\n",
    "                    epochs=20,\n",
    "                    validation_data=(np.expand_dims(X_val.to_numpy(), -1), \n",
    "                                     y_val.to_numpy()),\n",
    "                    callbacks=[checkpoint_cb])"
   ]
  },
  {
   "cell_type": "code",
   "execution_count": null,
   "metadata": {},
   "outputs": [],
   "source": [
    "\"\"\"The best set of weights came from a slightly different file format,\n",
    "which was changed to avoid having to post a pickle file on the web.\n",
    "\"\"\"\n",
    "model = keras.models.load_model(BEST_MODEL_FILENAME_INTERMEDIATE)\n",
    "y_val_pred = np.squeeze(model.predict(np.expand_dims(X_val, -1)))\n",
    "mse = mean_squared_error(y_val, y_val_pred)\n",
    "r2 = r2_score(y_val, y_val_pred)\n",
    "print(f'For the validation set, mse = {mse:.04f} and r2 = {r2:.04f}')\n",
    "print(f'This mse corresponds to a standard error of {np.sqrt(mse):.04f}')"
   ]
  },
  {
   "cell_type": "code",
   "execution_count": null,
   "metadata": {},
   "outputs": [],
   "source": [
    "np.random.seed(42)\n",
    "tf.random.set_seed(42)\n",
    "\n",
    "checkpoint_cb = keras.callbacks.ModelCheckpoint(CHECKPOINT_FILENAME_FINAL,\n",
    "                                                save_best_only=True)\n",
    "optimizer = keras.optimizers.Nadam(lr=1e-5)  \n",
    "model.compile(loss=\"mse\", optimizer=optimizer)\n",
    "history = model.fit(np.expand_dims(X_train.to_numpy(), -1),\n",
    "                    y_train.to_numpy(),\n",
    "                    epochs=10,\n",
    "                    validation_data=(np.expand_dims(X_val.to_numpy(), -1), \n",
    "                                     y_val.to_numpy()),\n",
    "                    callbacks=[checkpoint_cb])"
   ]
  },
  {
   "cell_type": "markdown",
   "metadata": {},
   "source": [
    "## Analyse and predict by object"
   ]
  },
  {
   "cell_type": "code",
   "execution_count": null,
   "metadata": {},
   "outputs": [],
   "source": [
    "model = keras.models.load_model(BEST_MODEL_FILENAME_FINAL)\n",
    "y_val_pred = np.squeeze(model.predict(np.expand_dims(X_val, -1)))\n",
    "mse = mean_squared_error(y_val, y_val_pred)\n",
    "r2 = r2_score(y_val, y_val_pred)\n",
    "print(f'For the validation set, mse = {mse:.04f} and r2 = {r2:.04f}')\n",
    "print(f'That mse corresponds to a standard error of {np.sqrt(mse):.04f}')\n",
    "y_test_pred = np.squeeze(model.predict(np.expand_dims(X_test, -1)))\n",
    "mse = mean_squared_error(y_test, y_test_pred)\n",
    "r2 = r2_score(y_test, y_test_pred)\n",
    "print(f'\\nFor the test set, mse = {mse:.04f} and r2 = {r2:.04f}')\n",
    "print(f'That mse corresponds to a standard error of {np.sqrt(mse):.04f}')"
   ]
  },
  {
   "cell_type": "code",
   "execution_count": null,
   "metadata": {},
   "outputs": [],
   "source": [
    "\"\"\"Here are the bins used to stratify the objects by train/val/test in\n",
    "creating X_train, ..., y_train, ...\n",
    "\"\"\"\n",
    "\n",
    "strata_bin_edges = [1, 2, 3, 60, np.inf]\n",
    "model_mean_predict_bins(quasars, model, X_train, y_train, strata_bin_edges,\n",
    "                        title=\"Train\")\n",
    "model_mean_predict_bins(quasars, model, X_val, y_val, strata_bin_edges,\n",
    "                        title=\"Val\")\n",
    "model_mean_predict_bins(quasars, model, X_test, y_test, strata_bin_edges,\n",
    "                        title=\"Test\")"
   ]
  },
  {
   "cell_type": "code",
   "execution_count": null,
   "metadata": {},
   "outputs": [],
   "source": [
    "\"\"\"Here is a slightly more detailed set of bins\"\"\"\n",
    "\n",
    "more_detailed_bin_edges = [1, 2, 3, 4, 5, 6, 10, 60, np.inf]\n",
    "model_mean_predict_bins(quasars, model, X_train, y_train,\n",
    "                        more_detailed_bin_edges, title=\"Train\")\n",
    "model_mean_predict_bins(quasars, model, X_val, y_val,\n",
    "                        more_detailed_bin_edges, title=\"Val\")\n",
    "model_mean_predict_bins(quasars, model, X_test, y_test, more_detailed_bin_edges,\n",
    "                        title=\"Test\")"
   ]
  },
  {
   "cell_type": "code",
   "execution_count": null,
   "metadata": {},
   "outputs": [],
   "source": []
  }
 ],
 "metadata": {
  "accelerator": "GPU",
  "colab": {
   "collapsed_sections": [],
   "name": "Chen_ML_v1.ipynb",
   "provenance": []
  },
  "kernelspec": {
   "display_name": "Python 3",
   "language": "python",
   "name": "python3"
  },
  "language_info": {
   "codemirror_mode": {
    "name": "ipython",
    "version": 3
   },
   "file_extension": ".py",
   "mimetype": "text/x-python",
   "name": "python",
   "nbconvert_exporter": "python",
   "pygments_lexer": "ipython3",
   "version": "3.7.9"
  }
 },
 "nbformat": 4,
 "nbformat_minor": 4
}
