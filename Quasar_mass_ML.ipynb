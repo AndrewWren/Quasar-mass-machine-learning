{
 "cells": [
  {
   "cell_type": "markdown",
   "metadata": {
    "id": "fPLYSNC-e997"
   },
   "source": [
    "# Configure"
   ]
  },
  {
   "cell_type": "code",
   "execution_count": 1,
   "metadata": {
    "colab": {
     "base_uri": "https://localhost:8080/"
    },
    "id": "FjrDhVbrm-kE",
    "outputId": "8a225204-a3d8-456f-8f55-2718c901c1f3"
   },
   "outputs": [],
   "source": [
    "\"\"\" Use the following commented out code if on colab:\n",
    "from google.colab import drive\n",
    "drive.mount('/content/drive')\n",
    "import sys\n",
    "sys.path.append('/content/drive/My Drive/Colab Notebooks')\n",
    "\"\"\"\n",
    "\n",
    "import os\n",
    "\n",
    "import numpy as np\n",
    "import pandas as pd\n",
    "from sklearn.metrics import mean_squared_error, r2_score\n",
    "import tensorflow as tf\n",
    "from tensorflow import keras\n",
    "from time import perf_counter\n",
    "\n",
    "from get_Chen_data import Epoch, get_Chen_data\n",
    "from quasar_analysis import model_mean_predict_bins\n",
    "\n",
    "BEST_MODEL_FILENAME_INTERMEDIATE = os.path.join(\n",
    "    'models', 'Best_models', 'Best_ANN_intermediate_stage.h5')\n",
    "CHECKPOINT_FILENAME_INTERMEDIATE = os.path.join(\n",
    "    'models', 'Checkpoints', 'Checkpoint_intermediate_stage.h5')\n",
    "BEST_MODEL_FILENAME_FINAL = os.path.join('models', 'Best_models',\n",
    "                                         'Best_ANN_final_stage.h5')\n",
    "CHECKPOINT_FILENAME_FINAL = os.path.join(\n",
    "    'models', 'Checkpoints', 'Checkpoint_final_stage.h5')"
   ]
  },
  {
   "cell_type": "code",
   "execution_count": 54,
   "metadata": {
    "id": "tAjQi5S0cywA"
   },
   "outputs": [
    {
     "name": "stdout",
     "output_type": "stream",
     "text": [
      "Loading quasars and spectra\n",
      "Forming X and y for train, val, test\n",
      "Completed.\n"
     ]
    }
   ],
   "source": [
    "(quasars, spectra,\n",
    "    X_train, X_val, X_test, y_train, y_val, y_test) = get_Chen_data()\n",
    "spec_length = X_test.shape[1]"
   ]
  },
  {
   "cell_type": "markdown",
   "metadata": {
    "id": "UvUVNhI6fDwr"
   },
   "source": [
    "# Create ML model"
   ]
  },
  {
   "cell_type": "code",
   "execution_count": 4,
   "metadata": {
    "id": "MjKN0GcvDuG9"
   },
   "outputs": [],
   "source": [
    "model = keras.models.Sequential([\n",
    "    keras.layers.Conv1D(32, kernel_size=100, strides=60,\n",
    "                        activation=\"relu\", input_shape=(spec_length, 1,)),\n",
    "    keras.layers.Conv1D(64, kernel_size=25, activation=\"relu\"),\n",
    "    keras.layers.BatchNormalization(),\n",
    "    keras.layers.Conv1D(128, kernel_size=25, strides=5,\n",
    "                            activation=\"relu\"),\n",
    "    keras.layers.LSTM(128, return_sequences=True),\n",
    "    keras.layers.LSTM(128),\n",
    "    keras.layers.Dense(128),\n",
    "    keras.layers.Dense(1)   \n",
    "])"
   ]
  },
  {
   "cell_type": "code",
   "execution_count": 13,
   "metadata": {
    "colab": {
     "base_uri": "https://localhost:8080/"
    },
    "id": "DKrGVf0oFAOv",
    "outputId": "d2d259b8-4e9a-4cee-f079-72573852c623"
   },
   "outputs": [
    {
     "name": "stdout",
     "output_type": "stream",
     "text": [
      "Train on 29040 samples, validate on 8262 samples\n",
      "Epoch 1/20\n",
      "29040/29040 [==============================] - 56s 2ms/sample - loss: 0.1449 - val_loss: 0.1322\n",
      "Epoch 2/20\n",
      "29040/29040 [==============================] - 48s 2ms/sample - loss: 0.0900 - val_loss: 0.0963\n",
      "Epoch 3/20\n",
      "29040/29040 [==============================] - 53s 2ms/sample - loss: 0.0757 - val_loss: 0.1278\n",
      "Epoch 4/20\n",
      "29040/29040 [==============================] - 51s 2ms/sample - loss: 0.0668 - val_loss: 0.0852\n",
      "Epoch 5/20\n",
      "29040/29040 [==============================] - 50s 2ms/sample - loss: 0.0598 - val_loss: 0.0605\n",
      "Epoch 6/20\n",
      "29040/29040 [==============================] - 51s 2ms/sample - loss: 0.0570 - val_loss: 0.0580\n",
      "Epoch 7/20\n",
      "29040/29040 [==============================] - 52s 2ms/sample - loss: 0.0527 - val_loss: 0.0728\n",
      "Epoch 8/20\n",
      "29040/29040 [==============================] - 52s 2ms/sample - loss: 0.0502 - val_loss: 0.0813\n",
      "Epoch 9/20\n",
      "29040/29040 [==============================] - 53s 2ms/sample - loss: 0.0471 - val_loss: 0.0721\n",
      "Epoch 10/20\n",
      "29040/29040 [==============================] - 50s 2ms/sample - loss: 0.0442 - val_loss: 0.0549\n",
      "Epoch 11/20\n",
      "29040/29040 [==============================] - 53s 2ms/sample - loss: 0.0412 - val_loss: 0.0814\n",
      "Epoch 12/20\n",
      "29040/29040 [==============================] - 51s 2ms/sample - loss: 0.0384 - val_loss: 0.0700\n",
      "Epoch 13/20\n",
      "29040/29040 [==============================] - 52s 2ms/sample - loss: 0.0362 - val_loss: 0.0624\n",
      "Epoch 14/20\n",
      "29040/29040 [==============================] - 54s 2ms/sample - loss: 0.0339 - val_loss: 0.0617\n",
      "Epoch 15/20\n",
      "29040/29040 [==============================] - 51s 2ms/sample - loss: 0.0320 - val_loss: 0.0593\n",
      "Epoch 16/20\n",
      "29040/29040 [==============================] - 51s 2ms/sample - loss: 0.0298 - val_loss: 0.0640\n",
      "Epoch 17/20\n",
      "29040/29040 [==============================] - 54s 2ms/sample - loss: 0.0282 - val_loss: 0.0630\n",
      "Epoch 18/20\n",
      "29040/29040 [==============================] - 55s 2ms/sample - loss: 0.0259 - val_loss: 0.0682\n",
      "Epoch 19/20\n",
      "29040/29040 [==============================] - 51s 2ms/sample - loss: 0.0244 - val_loss: 0.0600\n",
      "Epoch 20/20\n",
      "29040/29040 [==============================] - 50s 2ms/sample - loss: 0.0228 - val_loss: 0.0599\n"
     ]
    }
   ],
   "source": [
    "keras.backend.clear_session()\n",
    "np.random.seed(42)\n",
    "tf.random.set_seed(42)\n",
    "\n",
    "checkpoint_cb = (keras.callbacks.\n",
    "                 ModelCheckpoint(CHECKPOINT_FILENAME_INTERMEDIATE,\n",
    "                                                save_best_only=True))\n",
    "optimizer = keras.optimizers.Nadam(lr=1e-3)  \n",
    "model.compile(loss=\"mse\", optimizer=optimizer)\n",
    "history = model.fit(np.expand_dims(X_train.to_numpy(), -1),\n",
    "                    y_train.to_numpy(),\n",
    "                    epochs=20,\n",
    "                    validation_data=(np.expand_dims(X_val.to_numpy(), -1), \n",
    "                                     y_val.to_numpy()),\n",
    "                    callbacks=[checkpoint_cb])"
   ]
  },
  {
   "cell_type": "code",
   "execution_count": 20,
   "metadata": {},
   "outputs": [
    {
     "name": "stdout",
     "output_type": "stream",
     "text": [
      "For the validation set, mse = 0.0549 and r2 = 0.6926\n",
      "This mse corresponds to a standard error of 0.2343\n"
     ]
    }
   ],
   "source": [
    "#model_filename = \"Chen_model_1.h5\"\n",
    "model = keras.models.load_model(BEST_MODEL_FILENAME_INTERMEDIATE)\n",
    "y_val_pred = np.squeeze(model.predict(np.expand_dims(X_val, -1)))\n",
    "mse = mean_squared_error(y_val, y_val_pred)\n",
    "r2 = r2_score(y_val, y_val_pred)\n",
    "print(f'For the validation set, mse = {mse:.04f} and r2 = {r2:.04f}')\n",
    "print(f'This mse corresponds to a standard error of {np.sqrt(mse):.04f}')"
   ]
  },
  {
   "cell_type": "code",
   "execution_count": 15,
   "metadata": {},
   "outputs": [
    {
     "name": "stdout",
     "output_type": "stream",
     "text": [
      "Train on 29040 samples, validate on 8262 samples\n",
      "Epoch 1/10\n",
      "29040/29040 [==============================] - 49s 2ms/sample - loss: 0.0358 - val_loss: 0.0531\n",
      "Epoch 2/10\n",
      "29040/29040 [==============================] - 45s 2ms/sample - loss: 0.0338 - val_loss: 0.0530\n",
      "Epoch 3/10\n",
      "29040/29040 [==============================] - 45s 2ms/sample - loss: 0.0328 - val_loss: 0.0530\n",
      "Epoch 4/10\n",
      "29040/29040 [==============================] - 45s 2ms/sample - loss: 0.0324 - val_loss: 0.0531\n",
      "Epoch 5/10\n",
      "29040/29040 [==============================] - 45s 2ms/sample - loss: 0.0318 - val_loss: 0.0536\n",
      "Epoch 6/10\n",
      "29040/29040 [==============================] - 47s 2ms/sample - loss: 0.0318 - val_loss: 0.0537\n",
      "Epoch 7/10\n",
      "29040/29040 [==============================] - 46s 2ms/sample - loss: 0.0315 - val_loss: 0.0537\n",
      "Epoch 8/10\n",
      "29040/29040 [==============================] - 46s 2ms/sample - loss: 0.0313 - val_loss: 0.0541\n",
      "Epoch 9/10\n",
      "29040/29040 [==============================] - 45s 2ms/sample - loss: 0.0310 - val_loss: 0.0542\n",
      "Epoch 10/10\n",
      "29040/29040 [==============================] - 46s 2ms/sample - loss: 0.0305 - val_loss: 0.0543\n"
     ]
    }
   ],
   "source": [
    "np.random.seed(42)\n",
    "tf.random.set_seed(42)\n",
    "\n",
    "checkpoint_cb = keras.callbacks.ModelCheckpoint(CHECKPOINT_FILENAME_FINAL,\n",
    "                                                save_best_only=True)\n",
    "optimizer = keras.optimizers.Nadam(lr=1e-5)  \n",
    "model.compile(loss=\"mse\", optimizer=optimizer)\n",
    "history = model.fit(np.expand_dims(X_train.to_numpy(), -1),\n",
    "                    y_train.to_numpy(),\n",
    "                    epochs=10,\n",
    "                    validation_data=(np.expand_dims(X_val.to_numpy(), -1), \n",
    "                                     y_val.to_numpy()),\n",
    "                    callbacks=[checkpoint_cb])"
   ]
  },
  {
   "cell_type": "markdown",
   "metadata": {},
   "source": [
    "## Analyse and predict by object"
   ]
  },
  {
   "cell_type": "code",
   "execution_count": 7,
   "metadata": {},
   "outputs": [
    {
     "name": "stdout",
     "output_type": "stream",
     "text": [
      "For the validation set, mse = 0.0530 and r2 = 0.7036\n",
      "That mse corresponds to a standard error of 0.2301\n",
      "\n",
      "For the test set, mse = 0.0584 and r2 = 0.7172\n",
      "That mse corresponds to a standard error of 0.2416\n"
     ]
    }
   ],
   "source": [
    "#model_filename_a = \"Chen_model_1_a.h5\"\n",
    "model = keras.models.load_model(BEST_MODEL_FILENAME_FINAL)\n",
    "y_val_pred = np.squeeze(model.predict(np.expand_dims(X_val, -1)))\n",
    "mse = mean_squared_error(y_val, y_val_pred)\n",
    "r2 = r2_score(y_val, y_val_pred)\n",
    "print(f'For the validation set, mse = {mse:.04f} and r2 = {r2:.04f}')\n",
    "print(f'That mse corresponds to a standard error of {np.sqrt(mse):.04f}')\n",
    "y_test_pred = np.squeeze(model.predict(np.expand_dims(X_test, -1)))\n",
    "mse = mean_squared_error(y_test, y_test_pred)\n",
    "r2 = r2_score(y_test, y_test_pred)\n",
    "print(f'\\nFor the test set, mse = {mse:.04f} and r2 = {r2:.04f}')\n",
    "print(f'That mse corresponds to a standard error of {np.sqrt(mse):.04f}')"
   ]
  },
  {
   "cell_type": "code",
   "execution_count": 8,
   "metadata": {},
   "outputs": [
    {
     "name": "stdout",
     "output_type": "stream",
     "text": [
      "\n",
      "   Bin\t    N\t  MSE\t   R2\n",
      "\n",
      "     1\t20259\t0.034\t0.813\n",
      "     2\t 1170\t0.034\t0.816\n",
      "  3-60\t  134\t0.027\t0.851\n",
      "60-inf\t   81\t0.007\t0.963\n",
      "=============================\n",
      "   All\t21644\t0.034\t0.814\n",
      "\n",
      "\n",
      "   Bin\t    N\t  MSE\t   R2\n",
      "\n",
      "     1\t 5788\t0.054\t0.707\n",
      "     2\t  334\t0.052\t0.719\n",
      "  3-60\t   39\t0.042\t0.772\n",
      "60-inf\t   23\t0.025\t0.865\n",
      "=============================\n",
      "   All\t 6184\t0.054\t0.709\n",
      "\n",
      "\n",
      "   Bin\t    N\t  MSE\t   R2\n",
      "\n",
      "     1\t 2894\t0.057\t0.692\n",
      "     2\t  167\t0.043\t0.766\n",
      "  3-60\t   19\t0.075\t0.596\n",
      "60-inf\t   12\t0.046\t0.754\n",
      "=============================\n",
      "   All\t 3092\t0.056\t0.695\n",
      "\n"
     ]
    }
   ],
   "source": [
    "\"\"\"Here are the bins used to stratify the objects by train/val/test in\n",
    "creating X_train, ..., y_train, ...\n",
    "\"\"\"\n",
    "\n",
    "strata_bin_edges = [1, 2, 3, 60, np.inf]\n",
    "model_mean_predict_bins(quasars, model, X_train, y_train, strata_bin_edges,\n",
    "                        title=\"Train\")\n",
    "model_mean_predict_bins(quasars, model, X_val, y_val, strata_bin_edges,\n",
    "                        title=\"Val\")\n",
    "model_mean_predict_bins(quasars, model, X_test, y_test, strata_bin_edges,\n",
    "                        title=\"Test\")"
   ]
  },
  {
   "cell_type": "code",
   "execution_count": 9,
   "metadata": {},
   "outputs": [
    {
     "name": "stdout",
     "output_type": "stream",
     "text": [
      "\n",
      "   Bin\t    N\t  MSE\t   R2\n",
      "\n",
      "     1\t20259\t0.034\t0.813\n",
      "     2\t 1170\t0.034\t0.816\n",
      "     3\t   81\t0.027\t0.854\n",
      "     4\t    5\t0.064\t0.655\n",
      "     5\t    3\t0.006\t0.967\n",
      "  6-10\t   44\t0.026\t0.857\n",
      " 10-60\t    1\t0.003\t0.984\n",
      "60-inf\t   81\t0.007\t0.963\n",
      "=============================\n",
      "   All\t21644\t0.034\t0.814\n",
      "\n",
      "\n",
      "   Bin\t    N\t  MSE\t   R2\n",
      "\n",
      "     1\t 5788\t0.054\t0.707\n",
      "     2\t  334\t0.052\t0.719\n",
      "     3\t   23\t0.033\t0.821\n",
      "     4\t    2\t0.001\t0.995\n",
      "     5\t    1\t0.000\t0.999\n",
      "  6-10\t   13\t0.068\t0.633\n",
      " 10-60\t    0\tnan\tnan\n",
      "60-inf\t   23\t0.025\t0.865\n",
      "=============================\n",
      "   All\t 6184\t0.054\t0.709\n",
      "\n",
      "\n",
      "   Bin\t    N\t  MSE\t   R2\n",
      "\n",
      "     1\t 2894\t0.057\t0.692\n",
      "     2\t  167\t0.043\t0.766\n",
      "     3\t   11\t0.104\t0.437\n",
      "     4\t    0\tnan\tnan\n",
      "     5\t    0\tnan\tnan\n",
      "  6-10\t    8\t0.034\t0.815\n",
      " 10-60\t    0\tnan\tnan\n",
      "60-inf\t   12\t0.046\t0.754\n",
      "=============================\n",
      "   All\t 3092\t0.056\t0.695\n",
      "\n"
     ]
    }
   ],
   "source": [
    "\"\"\"Here is a slightly more detailed set of bins\"\"\"\n",
    "\n",
    "more_detailed_bin_edges = [1, 2, 3, 4, 5, 6, 10, 60, np.inf]\n",
    "model_mean_predict_bins(quasars, model, X_train, y_train,\n",
    "                        more_detailed_bin_edges, title=\"Train\")\n",
    "model_mean_predict_bins(quasars, model, X_val, y_val,\n",
    "                        more_detailed_bin_edges, title=\"Val\")\n",
    "model_mean_predict_bins(quasars, model, X_test, y_test, more_detailed_bin_edges,\n",
    "                        title=\"Test\")"
   ]
  },
  {
   "cell_type": "code",
   "execution_count": null,
   "metadata": {},
   "outputs": [],
   "source": []
  }
 ],
 "metadata": {
  "accelerator": "GPU",
  "colab": {
   "collapsed_sections": [],
   "name": "Chen_ML_v1.ipynb",
   "provenance": []
  },
  "kernelspec": {
   "display_name": "Python 3",
   "language": "python",
   "name": "python3"
  },
  "language_info": {
   "codemirror_mode": {
    "name": "ipython",
    "version": 3
   },
   "file_extension": ".py",
   "mimetype": "text/x-python",
   "name": "python",
   "nbconvert_exporter": "python",
   "pygments_lexer": "ipython3",
   "version": "3.7.9"
  }
 },
 "nbformat": 4,
 "nbformat_minor": 4
}
